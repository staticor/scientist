{
 "cells": [
  {
   "cell_type": "code",
   "execution_count": 1,
   "metadata": {},
   "outputs": [],
   "source": [
    "from sklearn.decomposition import PCA\n",
    "from sklearn.pipeline import Pipeline\n",
    "from sklearn.preprocessing import MinMaxScaler\n",
    "\n",
    "def std_PCA(**argv):\n",
    "    scaler = MinMaxScaler()\n",
    "    pca = PCA(**argv)\n",
    "    pipeline = Pipeline( [ (\"scaler\", scaler), (\"pca\", pca)])\n",
    "    return pipeline"
   ]
  },
  {
   "cell_type": "code",
   "execution_count": 3,
   "metadata": {},
   "outputs": [
    {
     "data": {
      "text/plain": [
       "array([[-0.32321796],\n",
       "       [ 0.21758715],\n",
       "       [ 0.75839225],\n",
       "       [-0.65276145]])"
      ]
     },
     "execution_count": 3,
     "metadata": {},
     "output_type": "execute_result"
    }
   ],
   "source": [
    "pca = std_PCA(n_components=1)\n",
    "R2 = pca.fit_transform(A)\n",
    "R2"
   ]
  },
  {
   "cell_type": "code",
   "execution_count": 4,
   "metadata": {},
   "outputs": [
    {
     "data": {
      "text/plain": [
       "array([[2.39788502e+00, 2.79151117e+03],\n",
       "       [3.82363542e+00, 5.23184033e+03],\n",
       "       [5.24938583e+00, 7.67216948e+03],\n",
       "       [1.52909373e+00, 1.30447902e+03]])"
      ]
     },
     "execution_count": 4,
     "metadata": {},
     "output_type": "execute_result"
    }
   ],
   "source": [
    "pca.inverse_transform(R2)"
   ]
  },
  {
   "cell_type": "code",
   "execution_count": 2,
   "metadata": {},
   "outputs": [],
   "source": [
    "import numpy as np\n",
    "\n",
    "A = np.array( [\n",
    "    \n",
    "    [3, 2000],\n",
    "    [4, 5000],\n",
    "    [5, 8000],\n",
    "    [1, 2000]\n",
    "], dtype='float'\n",
    "\n",
    ")"
   ]
  },
  {
   "cell_type": "code",
   "execution_count": null,
   "metadata": {},
   "outputs": [],
   "source": []
  },
  {
   "cell_type": "code",
   "execution_count": null,
   "metadata": {},
   "outputs": [],
   "source": []
  },
  {
   "cell_type": "code",
   "execution_count": null,
   "metadata": {},
   "outputs": [],
   "source": []
  },
  {
   "cell_type": "code",
   "execution_count": null,
   "metadata": {},
   "outputs": [],
   "source": []
  },
  {
   "cell_type": "code",
   "execution_count": null,
   "metadata": {},
   "outputs": [],
   "source": []
  },
  {
   "cell_type": "code",
   "execution_count": null,
   "metadata": {},
   "outputs": [],
   "source": []
  },
  {
   "cell_type": "code",
   "execution_count": null,
   "metadata": {},
   "outputs": [],
   "source": []
  },
  {
   "cell_type": "code",
   "execution_count": null,
   "metadata": {},
   "outputs": [],
   "source": []
  },
  {
   "cell_type": "code",
   "execution_count": null,
   "metadata": {},
   "outputs": [],
   "source": []
  },
  {
   "cell_type": "code",
   "execution_count": null,
   "metadata": {},
   "outputs": [],
   "source": []
  },
  {
   "cell_type": "code",
   "execution_count": null,
   "metadata": {},
   "outputs": [],
   "source": []
  },
  {
   "cell_type": "code",
   "execution_count": null,
   "metadata": {},
   "outputs": [],
   "source": []
  },
  {
   "cell_type": "code",
   "execution_count": null,
   "metadata": {},
   "outputs": [],
   "source": []
  },
  {
   "cell_type": "code",
   "execution_count": 1,
   "metadata": {},
   "outputs": [
    {
     "name": "stdout",
     "output_type": "stream",
     "text": [
      "[[-2.50e-01 -2.25e+03]\n",
      " [ 7.50e-01  7.50e+02]\n",
      " [ 1.75e+00  3.75e+03]\n",
      " [-2.25e+00 -2.25e+03]]\n"
     ]
    }
   ],
   "source": [
    "import numpy as np\n",
    "\n",
    "A = np.array( [\n",
    "    \n",
    "    [3, 2000],\n",
    "    [4, 5000],\n",
    "    [5, 8000],\n",
    "    [1, 2000]\n",
    "], dtype='float'\n",
    "\n",
    ")\n",
    "\n",
    "# 归一化\n",
    "\n",
    "mean = np.mean(A, axis=0)\n",
    "norm = A - mean\n",
    "print(norm)\n"
   ]
  },
  {
   "cell_type": "code",
   "execution_count": 2,
   "metadata": {},
   "outputs": [
    {
     "name": "stdout",
     "output_type": "stream",
     "text": [
      "[[-0.0625 -0.375 ]\n",
      " [ 0.1875  0.125 ]\n",
      " [ 0.4375  0.625 ]\n",
      " [-0.5625 -0.375 ]]\n"
     ]
    }
   ],
   "source": [
    "# 数据缩放\n",
    "scope = np.max(norm, axis=0) - np.min(norm, axis=0)\n",
    "norm = norm / scope\n",
    "\n",
    "print(norm)"
   ]
  },
  {
   "cell_type": "code",
   "execution_count": 3,
   "metadata": {},
   "outputs": [],
   "source": [
    "# svd  矩阵分解\n",
    "U, S, V = np.linalg.svd( np.dot(norm.T, norm))\n"
   ]
  },
  {
   "cell_type": "code",
   "execution_count": 4,
   "metadata": {},
   "outputs": [
    {
     "data": {
      "text/plain": [
       "array([[-0.65908697, -0.75206673],\n",
       "       [-0.75206673,  0.65908697]])"
      ]
     },
     "execution_count": 4,
     "metadata": {},
     "output_type": "execute_result"
    }
   ],
   "source": [
    "U"
   ]
  },
  {
   "cell_type": "code",
   "execution_count": 6,
   "metadata": {},
   "outputs": [
    {
     "data": {
      "text/plain": [
       "array([[-0.65908697],\n",
       "       [-0.75206673]])"
      ]
     },
     "execution_count": 6,
     "metadata": {},
     "output_type": "execute_result"
    }
   ],
   "source": [
    "U_reduce = U[:, 0].reshape(2, 1)\n",
    "# 主成分特征矩阵\n",
    "U_reduce"
   ]
  },
  {
   "cell_type": "code",
   "execution_count": 7,
   "metadata": {},
   "outputs": [
    {
     "data": {
      "text/plain": [
       "array([[ 0.32321796],\n",
       "       [-0.21758715],\n",
       "       [-0.75839225],\n",
       "       [ 0.65276145]])"
      ]
     },
     "execution_count": 7,
     "metadata": {},
     "output_type": "execute_result"
    }
   ],
   "source": [
    "R = np.dot(norm, U_reduce)\n",
    "\n",
    "R"
   ]
  },
  {
   "cell_type": "code",
   "execution_count": 8,
   "metadata": {},
   "outputs": [
    {
     "data": {
      "text/plain": [
       "array([[-0.21302875, -0.24308147],\n",
       "       [ 0.14340886,  0.16364005],\n",
       "       [ 0.49984646,  0.57036158],\n",
       "       [-0.43022657, -0.49092016]])"
      ]
     },
     "execution_count": 8,
     "metadata": {},
     "output_type": "execute_result"
    }
   ],
   "source": [
    "Z = np.dot(R, U_reduce.T)\n",
    "Z"
   ]
  },
  {
   "cell_type": "code",
   "execution_count": 9,
   "metadata": {},
   "outputs": [
    {
     "data": {
      "text/plain": [
       "array([[2.39788502e+00, 2.79151117e+03],\n",
       "       [3.82363542e+00, 5.23184033e+03],\n",
       "       [5.24938583e+00, 7.67216948e+03],\n",
       "       [1.52909373e+00, 1.30447902e+03]])"
      ]
     },
     "execution_count": 9,
     "metadata": {},
     "output_type": "execute_result"
    }
   ],
   "source": [
    "# 数据处理的逆运算\n",
    "\n",
    "np.multiply(Z, scope) + mean"
   ]
  },
  {
   "cell_type": "code",
   "execution_count": null,
   "metadata": {},
   "outputs": [],
   "source": []
  }
 ],
 "metadata": {
  "kernelspec": {
   "display_name": "Python 3",
   "language": "python",
   "name": "python3"
  },
  "language_info": {
   "codemirror_mode": {
    "name": "ipython",
    "version": 3
   },
   "file_extension": ".py",
   "mimetype": "text/x-python",
   "name": "python",
   "nbconvert_exporter": "python",
   "pygments_lexer": "ipython3",
   "version": "3.6.5"
  }
 },
 "nbformat": 4,
 "nbformat_minor": 2
}
