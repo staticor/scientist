{
 "cells": [
  {
   "cell_type": "code",
   "execution_count": 8,
   "metadata": {},
   "outputs": [
    {
     "name": "stdout",
     "output_type": "stream",
     "text": [
      "Counter({'n': 73, 's': 57, 'j': 57, 'z': 43, 'f': 40, 'l': 36, 'm': 31, 't': 27, '／': 18, 'c': 16, 'e': 15, 'o': 14, 'd': 14, 'q': 14, 'i': 13, 'r': 13, 'b': 11, 'w': 11, 'h': 9, 'x': 8, 'v': 4, 'g': 4, 'y': 3, '/': 2, 'u': 2, 'k': 2, 'p': 1, '\\n': 1})\n",
      "/nihao／gongxinijiechuzheduanwenzidehanyi／xiamianwoyaojiaogeiniyigerenwu／zhiyouniwanchenglezhegerenwu／caiyoujihuihuodejiangpin／zaimimaxuekechengzhong／womenchulexuexiledaliangjiamihejiemidezhishi／hailiaojieleshigezhumingdemimaxuerenwu／tamengejufengge／youxierensuiranzaozaojiuqushile／danliuxialebaoguideshuxuechengguo／youxierenyongjinbishengjingli／yanjiuguaijixiangxingwenzi／zuizhongpoyileta／rangrenmenchongxindudonglefalaodehua／erwoxiangqingnitiaochuyigenizuiganxingqudemimaxuerenwu／binggeichunideliyou／yishangjiushiquanburenwu／zhunihaoyun\n",
      "/\n"
     ]
    }
   ],
   "source": [
    "from __future__ import absolute_import\n",
    "from __future__ import division\n",
    "from __future__ import print_function\n",
    "\n",
    "import numpy as np\n",
    "\n",
    "url = 'https://pic1cdn.luojilab.com/html/poster/picppXzJNO3x4ckjZ0JG82W.html?ts=1547541323357'\n",
    "\n",
    "data = '''／vzxmnqj／ifsqnzcnfqjgftlznijxmzczjhmjsllzt／dtzcnjwjsdtslonsgnxmjslonslqn／dfsonzlzfnoncnfslcnslbjsen／eznemtslutdnqjyf／wfslwjsrjshmtslcnsizitslqjkfqftijmzf／jwbtcnfslvnslsnynfthmzdnljsneznlfscnslvzijrnrfczjwjsbz／gnslljnhmzsnijqndtz／dnxmfslonzxmnvzfsgzwjsbz／emzsnmftdzs'''\n",
    "\n",
    "\n",
    "data = '''/snmft／ltslcnsnonjhmzemjizfsbjsenijmfsdn／cnfrnfsbtdftonftljnsndnljwjsbz／emndtzsnbfshmjslqjemjljwjsbz／hfndtzonmznmztijonfsluns／efnrnrfczjpjhmjslemtsl／btrjshmzqjczjcnqjifqnfslonfrnmjonjrnijemnxmn／mfnqnftonjqjxmnljemzrnslijrnrfczjwjsbz／yfrjsljozkjsllj／dtzcnjwjsxznwfsefteftonzvzxmnqj／ifsqnzcnfqjgftlznijxmzczjhmjsllzt／dtzcnjwjsdtslonsgnxmjslonslqn／dfsonzlzfnoncnfslcnslbjsen／eznemtslutdnqjyf／wfslwjsrjshmtslcnsizitslqjkfqftijmzf／jwbtcnfslvnslsnynfthmzdnljsneznlfscnslvzijrnrfczjwjsbz／gnslljnhmzsnijqndtz／dnxmfslonzxmnvzfsgzwjsbz／emzsnmftdzs\n",
    "/'''\n",
    "from collections import Counter\n",
    "\n",
    "print(Counter(data))\n",
    "\n",
    "from string import ascii_lowercase as al\n",
    "\n",
    "\n",
    "print(data.translate((str.maketrans( 'nsjzflmtceodqirbwhxvgyukp', 'ineuaghoxzjyldmwrcsqbtpfk' ))))\n",
    "\n"
   ]
  },
  {
   "cell_type": "code",
   "execution_count": 3,
   "metadata": {},
   "outputs": [
    {
     "name": "stdout",
     "output_type": "stream",
     "text": [
      "Collecting tensorflow\n",
      "\u001b[?25l  Downloading https://files.pythonhosted.org/packages/53/23/66760d6555eabda52a2ecfb0ee0850c38a0be183422c86736c5879320e71/tensorflow-1.12.0-cp27-cp27m-macosx_10_11_x86_64.whl (62.0MB)\n",
      "\u001b[K    100% |████████████████████████████████| 62.0MB 83kB/s eta 0:00:011\n",
      "\u001b[?25hRequirement already satisfied: six>=1.10.0 in /Users/steve/.pyenv/versions/2.7.13/lib/python2.7/site-packages (from tensorflow) (1.12.0)\n",
      "Collecting gast>=0.2.0 (from tensorflow)\n",
      "  Downloading https://files.pythonhosted.org/packages/4e/35/11749bf99b2d4e3cceb4d55ca22590b0d7c2c62b9de38ac4a4a7f4687421/gast-0.2.2.tar.gz\n",
      "Collecting keras-preprocessing>=1.0.5 (from tensorflow)\n",
      "  Downloading https://files.pythonhosted.org/packages/fc/94/74e0fa783d3fc07e41715973435dd051ca89c550881b3454233c39c73e69/Keras_Preprocessing-1.0.5-py2.py3-none-any.whl\n",
      "Collecting protobuf>=3.6.1 (from tensorflow)\n",
      "\u001b[?25l  Downloading https://files.pythonhosted.org/packages/2b/2b/d51219eb18a140836cb656053e5408cd18fd752217ff73ca596204cd3183/protobuf-3.6.1-cp27-cp27m-macosx_10_6_intel.macosx_10_9_intel.macosx_10_9_x86_64.macosx_10_10_intel.macosx_10_10_x86_64.whl (1.2MB)\n",
      "\u001b[K    100% |████████████████████████████████| 1.2MB 193kB/s ta 0:00:01\n",
      "\u001b[?25hRequirement already satisfied: enum34>=1.1.6 in /Users/steve/.pyenv/versions/2.7.13/lib/python2.7/site-packages (from tensorflow) (1.1.6)\n",
      "Collecting astor>=0.6.0 (from tensorflow)\n",
      "  Downloading https://files.pythonhosted.org/packages/35/6b/11530768cac581a12952a2aad00e1526b89d242d0b9f59534ef6e6a1752f/astor-0.7.1-py2.py3-none-any.whl\n",
      "Collecting keras-applications>=1.0.6 (from tensorflow)\n",
      "\u001b[?25l  Downloading https://files.pythonhosted.org/packages/3f/c4/2ff40221029f7098d58f8d7fb99b97e8100f3293f9856f0fb5834bef100b/Keras_Applications-1.0.6-py2.py3-none-any.whl (44kB)\n",
      "\u001b[K    100% |████████████████████████████████| 51kB 412kB/s ta 0:00:011\n",
      "\u001b[?25hCollecting mock>=2.0.0 (from tensorflow)\n",
      "\u001b[?25l  Downloading https://files.pythonhosted.org/packages/e6/35/f187bdf23be87092bd0f1200d43d23076cee4d0dec109f195173fd3ebc79/mock-2.0.0-py2.py3-none-any.whl (56kB)\n",
      "\u001b[K    100% |████████████████████████████████| 61kB 254kB/s ta 0:00:01\n",
      "\u001b[?25hCollecting grpcio>=1.8.6 (from tensorflow)\n",
      "\u001b[?25l  Downloading https://files.pythonhosted.org/packages/a9/06/70e2aa28a199672e87c448fadee8385762490ea7fc71bce0a15f64fcda15/grpcio-1.17.1-cp27-cp27m-macosx_10_12_x86_64.whl (1.8MB)\n",
      "\u001b[K    100% |████████████████████████████████| 1.8MB 505kB/s ta 0:00:011\n",
      "\u001b[?25hRequirement already satisfied: numpy>=1.13.3 in /Users/steve/.pyenv/versions/2.7.13/lib/python2.7/site-packages (from tensorflow) (1.15.4)\n",
      "Collecting tensorboard<1.13.0,>=1.12.0 (from tensorflow)\n",
      "\u001b[?25l  Downloading https://files.pythonhosted.org/packages/51/ae/9840c4837c6f54034ac942b5344396e8c3d74686a9bd29beafdf633cc221/tensorboard-1.12.2-py2-none-any.whl (3.0MB)\n",
      "\u001b[K    100% |████████████████████████████████| 3.1MB 339kB/s ta 0:00:01\n",
      "\u001b[?25hCollecting termcolor>=1.1.0 (from tensorflow)\n",
      "  Downloading https://files.pythonhosted.org/packages/8a/48/a76be51647d0eb9f10e2a4511bf3ffb8cc1e6b14e9e4fab46173aa79f981/termcolor-1.1.0.tar.gz\n",
      "Collecting backports.weakref>=1.0rc1 (from tensorflow)\n",
      "  Downloading https://files.pythonhosted.org/packages/88/ec/f598b633c3d5ffe267aaada57d961c94fdfa183c5c3ebda2b6d151943db6/backports.weakref-1.0.post1-py2.py3-none-any.whl\n",
      "Collecting absl-py>=0.1.6 (from tensorflow)\n",
      "\u001b[?25l  Downloading https://files.pythonhosted.org/packages/0c/63/f505d2d4c21db849cf80bad517f0065a30be6b006b0a5637f1b95584a305/absl-py-0.6.1.tar.gz (94kB)\n",
      "\u001b[K    100% |████████████████████████████████| 102kB 424kB/s a 0:00:011\n",
      "\u001b[?25hCollecting wheel (from tensorflow)\n",
      "  Downloading https://files.pythonhosted.org/packages/ff/47/1dfa4795e24fd6f93d5d58602dd716c3f101cfd5a77cd9acbe519b44a0a9/wheel-0.32.3-py2.py3-none-any.whl\n",
      "Requirement already satisfied: setuptools in /Users/steve/.pyenv/versions/2.7.13/lib/python2.7/site-packages (from protobuf>=3.6.1->tensorflow) (28.8.0)\n",
      "Collecting h5py (from keras-applications>=1.0.6->tensorflow)\n",
      "\u001b[?25l  Downloading https://files.pythonhosted.org/packages/98/06/0e711ae0c95d92ec238218448a15c23590cb117ded59e4bfa322b085b59e/h5py-2.9.0-cp27-cp27m-macosx_10_6_intel.macosx_10_9_intel.macosx_10_9_x86_64.macosx_10_10_intel.macosx_10_10_x86_64.whl (6.1MB)\n",
      "\u001b[K    100% |████████████████████████████████| 6.1MB 688kB/s eta 0:00:01\n",
      "\u001b[?25hCollecting funcsigs>=1; python_version < \"3.3\" (from mock>=2.0.0->tensorflow)\n",
      "  Downloading https://files.pythonhosted.org/packages/69/cb/f5be453359271714c01b9bd06126eaf2e368f1fddfff30818754b5ac2328/funcsigs-1.0.2-py2.py3-none-any.whl\n",
      "Collecting pbr>=0.11 (from mock>=2.0.0->tensorflow)\n",
      "\u001b[?25l  Downloading https://files.pythonhosted.org/packages/f3/04/fddc1c2dd75b256eda4d360024692231a2c19a0c61ad7f4a162407c1ab58/pbr-5.1.1-py2.py3-none-any.whl (106kB)\n",
      "\u001b[K    100% |████████████████████████████████| 112kB 774kB/s ta 0:00:01\n",
      "\u001b[?25hRequirement already satisfied: futures>=2.2.0 in /Users/steve/.pyenv/versions/2.7.13/lib/python2.7/site-packages (from grpcio>=1.8.6->tensorflow) (3.2.0)\n",
      "Collecting markdown>=2.6.8 (from tensorboard<1.13.0,>=1.12.0->tensorflow)\n",
      "\u001b[?25l  Downloading https://files.pythonhosted.org/packages/7a/6b/5600647404ba15545ec37d2f7f58844d690baf2f81f3a60b862e48f29287/Markdown-3.0.1-py2.py3-none-any.whl (89kB)\n",
      "\u001b[K    100% |████████████████████████████████| 92kB 6.9MB/s eta 0:00:01\n",
      "\u001b[?25hCollecting werkzeug>=0.11.10 (from tensorboard<1.13.0,>=1.12.0->tensorflow)\n",
      "\u001b[?25l  Downloading https://files.pythonhosted.org/packages/20/c4/12e3e56473e52375aa29c4764e70d1b8f3efa6682bef8d0aae04fe335243/Werkzeug-0.14.1-py2.py3-none-any.whl (322kB)\n",
      "\u001b[K    100% |████████████████████████████████| 327kB 698kB/s ta 0:00:01\n",
      "\u001b[?25hInstalling collected packages: gast, keras-preprocessing, protobuf, astor, h5py, keras-applications, funcsigs, pbr, mock, grpcio, markdown, werkzeug, wheel, tensorboard, termcolor, backports.weakref, absl-py, tensorflow\n",
      "  Running setup.py install for gast ... \u001b[?25ldone\n",
      "\u001b[?25h  Running setup.py install for termcolor ... \u001b[?25ldone\n",
      "\u001b[?25h  Running setup.py install for absl-py ... \u001b[?25ldone\n",
      "\u001b[?25hSuccessfully installed absl-py-0.6.1 astor-0.7.1 backports.weakref-1.0.post1 funcsigs-1.0.2 gast-0.2.2 grpcio-1.17.1 h5py-2.9.0 keras-applications-1.0.6 keras-preprocessing-1.0.5 markdown-3.0.1 mock-2.0.0 pbr-5.1.1 protobuf-3.6.1 tensorboard-1.12.2 tensorflow-1.12.0 termcolor-1.1.0 werkzeug-0.14.1 wheel-0.32.3\n"
     ]
    }
   ],
   "source": [
    "!pip install tensorflow"
   ]
  },
  {
   "cell_type": "code",
   "execution_count": 5,
   "metadata": {},
   "outputs": [
    {
     "name": "stdout",
     "output_type": "stream",
     "text": [
      "Requirement already satisfied: pip in /Library/Frameworks/Python.framework/Versions/3.7/lib/python3.7/site-packages (18.1)\r\n"
     ]
    }
   ],
   "source": [
    "!pip install pip"
   ]
  },
  {
   "cell_type": "code",
   "execution_count": 4,
   "metadata": {},
   "outputs": [],
   "source": [
    "data = \"\"\"snmft／ltslcnsnonjhmzemjizfsbjsenijmfsdn／cnfrnfsbtdftonftljnsndnljwjsbz／emndtzsnbfshmjslqjemjljwjsbz／hfndtzonmznmztijonfsluns／efnrnrfczjpjhmjslemtsl／btrjshmzqjczjcnqjifqnfslonfrnmjonjrnijemnxmn／mfnqnftonjqjxmnljemzrnslijrnrfczjwjsbz／yfrjsljozkjsllj／dtzcnjwjsxznwfsefteftonzvzxmnqj／ifsqnzcnfqjgftlznijxmzczjhmjsllzt／dtzcnjwjsdtslonsgnxmjslonslqn／dfsonzlzfnoncnfslcnslbjsen／eznemtslutdnqjyf／wfslwjsrjshmtslcnsizitslqjkfqftijmzf／jwbtcnfslvnslsnynfthmzdnljsneznlfscnslvzijrnrfczjwjsbz／gnslljnhmzsnijqndtz／dnxmfslonzxmnvzfsgzwjsbz／emzsnmftdzs\"\"\""
   ]
  },
  {
   "cell_type": "code",
   "execution_count": null,
   "metadata": {},
   "outputs": [],
   "source": [
    "from collectionsections Counterterterterterrt counter"
   ]
  },
  {
   "cell_type": "code",
   "execution_count": null,
   "metadata": {},
   "outputs": [],
   "source": [
    "counter(data)"
   ]
  },
  {
   "cell_type": "code",
   "execution_count": null,
   "metadata": {},
   "outputs": [],
   "source": [
    "data"
   ]
  },
  {
   "cell_type": "code",
   "execution_count": 6,
   "metadata": {},
   "outputs": [
    {
     "name": "stdout",
     "output_type": "stream",
     "text": [
      "0 n\n",
      "1 s\n",
      "2 j\n",
      "3 z\n",
      "4 f\n",
      "5 l\n",
      "6 m\n",
      "7 t\n",
      "8 c\n",
      "9 e\n",
      "10 o\n",
      "11 d\n",
      "12 q\n",
      "13 i\n",
      "14 r\n",
      "15 b\n",
      "16 w\n",
      "17 h\n",
      "18 x\n",
      "19 v\n",
      "20 g\n",
      "21 y\n",
      "22 u\n",
      "23 k\n",
      "24 p\n"
     ]
    }
   ],
   "source": [
    "a = 'nsjzflmtceodqirbwhxvgyukp'\n",
    "\n",
    "for idx, e in enumerate(a):\n",
    "    print(idx, e)"
   ]
  },
  {
   "cell_type": "code",
   "execution_count": 7,
   "metadata": {},
   "outputs": [
    {
     "name": "stdout",
     "output_type": "stream",
     "text": [
      "0 i\n",
      "1 n\n",
      "2 e\n",
      "3 u\n",
      "4 a\n",
      "5 g\n",
      "6 h\n",
      "7 o\n",
      "8 z\n",
      "9 x\n",
      "10 y\n",
      "11 j\n",
      "12 l\n",
      "13 d\n",
      "14 r\n",
      "15 w\n",
      "16 m\n",
      "17 c\n",
      "18 s\n",
      "19 b\n",
      "20 q\n",
      "21 t\n",
      "22 a\n",
      "23 k\n",
      "24 f\n"
     ]
    }
   ],
   "source": [
    "b = 'ineuaghozxyjldrwmcsbqtakf'\n",
    "for idx, e in enumerate(b):\n",
    "    print(idx, e)"
   ]
  },
  {
   "cell_type": "code",
   "execution_count": null,
   "metadata": {},
   "outputs": [],
   "source": []
  }
 ],
 "metadata": {
  "kernelspec": {
   "display_name": "Python 3",
   "language": "python",
   "name": "python3"
  },
  "language_info": {
   "codemirror_mode": {
    "name": "ipython",
    "version": 3
   },
   "file_extension": ".py",
   "mimetype": "text/x-python",
   "name": "python",
   "nbconvert_exporter": "python",
   "pygments_lexer": "ipython3",
   "version": "3.6.3"
  }
 },
 "nbformat": 4,
 "nbformat_minor": 2
}
